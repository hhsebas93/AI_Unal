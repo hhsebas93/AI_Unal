{
 "cells": [
  {
   "cell_type": "code",
   "execution_count": 1,
   "metadata": {},
   "outputs": [],
   "source": [
    "import pandas as pd\n",
    "import matplotlib.pyplot as plt\n",
    "class Analisis:\n",
    "    def __init__(self, datos):\n",
    "        self.datos = pd.read_csv(datos)\n",
    "        self.data = pd.DataFrame(self.datos)\n",
    "    def estadisticas(self):\n",
    "        return self.data.describe(exclude=[object])\n",
    "    def nombre_variables(self):\n",
    "        return list(self.data.columns)\n",
    "\n",
    "    def estadistica_varible(self,name):\n",
    "        print(self.data[name].describe())\n",
    "        plt.hist(self.data[name])\n",
    "        plt.ylabel(\"Frecuencia\")\n",
    "        plt.title(f\"Histograma de {name}\")\n",
    "        plt.show()"
   ]
  },
  {
   "cell_type": "code",
   "execution_count": 3,
   "metadata": {},
   "outputs": [
    {
     "name": "stdout",
     "output_type": "stream",
     "text": [
      "Estadísticas descriptivas básicas\n",
      "\n",
      "               Id  SepalLengthCm  SepalWidthCm  PetalLengthCm  PetalWidthCm\n",
      "count  149.000000     149.000000    149.000000     149.000000    149.000000\n",
      "mean    75.000000       5.842953      3.054362       3.749664      1.194631\n",
      "std     43.156691       0.830846      0.435034       1.766911      0.764127\n",
      "min      1.000000       4.300000      2.000000       1.000000      0.100000\n",
      "25%     38.000000       5.100000      2.800000       1.600000      0.300000\n",
      "50%     75.000000       5.800000      3.000000       4.300000      1.300000\n",
      "75%    112.000000       6.400000      3.300000       5.100000      1.800000\n",
      "max    149.000000       7.900000      4.400000       6.900000      2.500000 \n",
      "\n",
      "Variables disponibles\n",
      "\n",
      "['Id', 'SepalLengthCm', 'SepalWidthCm', 'PetalLengthCm', 'PetalWidthCm', 'Species'] \n",
      "\n",
      "Estadísticas de la variable PetalLengthCm\n",
      "\n",
      "count    149.000000\n",
      "mean       3.749664\n",
      "std        1.766911\n",
      "min        1.000000\n",
      "25%        1.600000\n",
      "50%        4.300000\n",
      "75%        5.100000\n",
      "max        6.900000\n",
      "Name: PetalLengthCm, dtype: float64\n"
     ]
    },
    {
     "data": {
      "image/png": "[encoded data removed]",
      "text/plain": [
       "<Figure size 432x288 with 1 Axes>"
      ]
     },
     "metadata": {
      "needs_background": "light"
     },
     "output_type": "display_data"
    },
    {
     "name": "stdout",
     "output_type": "stream",
     "text": [
      "None\n"
     ]
    }
   ],
   "source": [
    "analisis_estadistica = Analisis('Iris.csv')\n",
    "print('Estadísticas descriptivas básicas\\n')\n",
    "print(analisis_estadistica.estadisticas(),\"\\n\")\n",
    "print('Variables disponibles\\n')\n",
    "print(analisis_estadistica.nombre_variables(),'\\n')\n",
    "print('Estadísticas de la variable PetalLengthCm\\n')\n",
    "print(analisis_estadistica.estadistica_varible('PetalLengthCm'))"
   ]
  }
 ],
 "metadata": {
  "kernelspec": {
   "display_name": "Python 3",
   "language": "python",
   "name": "python3"
  },
  "language_info": {
   "codemirror_mode": {
    "name": "ipython",
    "version": 3
   },
   "file_extension": ".py",
   "mimetype": "text/x-python",
   "name": "python",
   "nbconvert_exporter": "python",
   "pygments_lexer": "ipython3",
   "version": "3.7.10"
  }
 },
 "nbformat": 4,
 "nbformat_minor": 4
}
